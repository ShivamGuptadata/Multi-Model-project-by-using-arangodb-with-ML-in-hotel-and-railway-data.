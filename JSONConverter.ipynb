{
 "cells": [
  {
   "cell_type": "code",
   "execution_count": null,
   "metadata": {},
   "outputs": [],
   "source": [
    "import pandas as pd\n",
    "csv_data = pd.read_csv('/content/booking_com-travel_sample.csv')\n",
    "\n",
    "json_data = csv_data.to_json(orient = 'records')\n",
    "\n",
    "with open('json_data.json', 'w') as jsonfile:\n",
    "    jsonfile.write(json_data)"
   ]
  }
 ],
 "metadata": {
  "language_info": {
   "name": "python"
  },
  "orig_nbformat": 4
 },
 "nbformat": 4,
 "nbformat_minor": 2
}
